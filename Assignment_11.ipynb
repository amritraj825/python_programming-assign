{
 "cells": [
  {
   "attachments": {},
   "cell_type": "markdown",
   "metadata": {},
   "source": [
    "1. Write a Python program to find words which are greater than given length k?"
   ]
  },
  {
   "cell_type": "code",
   "execution_count": 12,
   "metadata": {},
   "outputs": [
    {
     "name": "stdout",
     "output_type": "stream",
     "text": [
      "['sample', 'sentence', 'program.']\n"
     ]
    }
   ],
   "source": [
    "def find_words_greater_than_length(string, k):\n",
    "    words = string.split()\n",
    "    result = []\n",
    "    for word in words:\n",
    "        if len(word) > k:\n",
    "            result.append(word)\n",
    "    return result\n",
    "\n",
    "# Example usage\n",
    "sentence = \"This is a sample sentence to test the program.\"\n",
    "k = 4\n",
    "words_greater_than_k = find_words_greater_than_length(sentence, k)\n",
    "print(words_greater_than_k)\n"
   ]
  },
  {
   "attachments": {},
   "cell_type": "markdown",
   "metadata": {},
   "source": [
    "2. Write a Python program for removing i-th character from a string?"
   ]
  },
  {
   "cell_type": "code",
   "execution_count": 13,
   "metadata": {},
   "outputs": [
    {
     "name": "stdout",
     "output_type": "stream",
     "text": [
      "Hello, orld!\n"
     ]
    }
   ],
   "source": [
    "def remove_ith_character(string, i):\n",
    "    if i < 0 or i >= len(string):\n",
    "        return string\n",
    "    return string[:i] + string[i+1:]\n",
    "\n",
    "# Example usage\n",
    "text = \"Hello, World!\"\n",
    "i = 7\n",
    "modified_text = remove_ith_character(text, i)\n",
    "print(modified_text)\n"
   ]
  },
  {
   "attachments": {},
   "cell_type": "markdown",
   "metadata": {},
   "source": [
    "3. Write a Python program to split and join a string?\n"
   ]
  },
  {
   "cell_type": "code",
   "execution_count": 14,
   "metadata": {},
   "outputs": [
    {
     "name": "stdout",
     "output_type": "stream",
     "text": [
      "This-is-a-sample-string.\n"
     ]
    }
   ],
   "source": [
    "def split_and_join(string):\n",
    "    words = string.split()\n",
    "    return '-'.join(words)\n",
    "\n",
    "# Example usage\n",
    "text = \"This is a sample string.\"\n",
    "modified_text = split_and_join(text)\n",
    "print(modified_text)\n"
   ]
  },
  {
   "attachments": {},
   "cell_type": "markdown",
   "metadata": {},
   "source": [
    "4. Write a Python to check if a given string is binary string or not?"
   ]
  },
  {
   "cell_type": "code",
   "execution_count": 15,
   "metadata": {},
   "outputs": [
    {
     "name": "stdout",
     "output_type": "stream",
     "text": [
      "True\n"
     ]
    }
   ],
   "source": [
    "def is_binary_string(string):\n",
    "    for char in string:\n",
    "        if char != '0' and char != '1':\n",
    "            return False\n",
    "    return True\n",
    "\n",
    "# Example usage\n",
    "text = \"101010\"\n",
    "is_binary = is_binary_string(text)\n",
    "print(is_binary)\n"
   ]
  },
  {
   "attachments": {},
   "cell_type": "markdown",
   "metadata": {},
   "source": [
    "5. Write a Python program to find uncommon words from two Strings?"
   ]
  },
  {
   "cell_type": "code",
   "execution_count": 16,
   "metadata": {},
   "outputs": [
    {
     "name": "stdout",
     "output_type": "stream",
     "text": [
      "['This', 'is', 'a', 'sample', 'sentence.', 'Another', 'sentence', 'for', 'testing.']\n"
     ]
    }
   ],
   "source": [
    "def find_uncommon_words(string1, string2):\n",
    "    words1 = string1.split()\n",
    "    words2 = string2.split()\n",
    "    uncommon_words = []\n",
    "    for word in words1:\n",
    "        if word not in words2:\n",
    "            uncommon_words.append(word)\n",
    "    for word in words2:\n",
    "        if word not in words1:\n",
    "            uncommon_words.append(word)\n",
    "    return uncommon_words\n",
    "\n",
    "# Example usage\n",
    "text1 = \"This is a sample sentence.\"\n",
    "text2 = \"Another sentence for testing.\"\n",
    "uncommon_words = find_uncommon_words(text1, text2)\n",
    "print(uncommon_words)\n"
   ]
  },
  {
   "attachments": {},
   "cell_type": "markdown",
   "metadata": {},
   "source": [
    "6. Write a Python to find all duplicate characters in string?"
   ]
  },
  {
   "cell_type": "code",
   "execution_count": 17,
   "metadata": {},
   "outputs": [
    {
     "name": "stdout",
     "output_type": "stream",
     "text": [
      "['l', 'o']\n"
     ]
    }
   ],
   "source": [
    "def find_duplicate_characters(string):\n",
    "    duplicates = []\n",
    "    for char in string:\n",
    "        if string.count(char) > 1 and char not in duplicates:\n",
    "            duplicates.append(char)\n",
    "    return duplicates\n",
    "\n",
    "# Example usage\n",
    "text = \"Hello, World!\"\n",
    "duplicate_chars = find_duplicate_characters(text)\n",
    "print(duplicate_chars)\n"
   ]
  },
  {
   "attachments": {},
   "cell_type": "markdown",
   "metadata": {},
   "source": [
    "7. Write a Python Program to check if a string contains any special character?"
   ]
  },
  {
   "cell_type": "code",
   "execution_count": 18,
   "metadata": {},
   "outputs": [
    {
     "name": "stdout",
     "output_type": "stream",
     "text": [
      "True\n"
     ]
    }
   ],
   "source": [
    "import re\n",
    "\n",
    "def contains_special_character(string):\n",
    "    regex = re.compile('[@_!#$%^&*()<>?/\\|}{~:]')\n",
    "    if regex.search(string):\n",
    "        return True\n",
    "    return False\n",
    "\n",
    "# Example usage\n",
    "text = \"Hello, World!\"\n",
    "has_special_character = contains_special_character(text)\n",
    "print(has_special_character)\n"
   ]
  },
  {
   "cell_type": "code",
   "execution_count": null,
   "metadata": {},
   "outputs": [],
   "source": []
  }
 ],
 "metadata": {
  "kernelspec": {
   "display_name": "Python 3",
   "language": "python",
   "name": "python3"
  },
  "language_info": {
   "codemirror_mode": {
    "name": "ipython",
    "version": 3
   },
   "file_extension": ".py",
   "mimetype": "text/x-python",
   "name": "python",
   "nbconvert_exporter": "python",
   "pygments_lexer": "ipython3",
   "version": "3.11.1"
  },
  "orig_nbformat": 4
 },
 "nbformat": 4,
 "nbformat_minor": 2
}
